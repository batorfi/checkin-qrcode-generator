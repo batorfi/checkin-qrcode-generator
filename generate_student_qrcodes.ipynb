{
 "cells": [
  {
   "cell_type": "code",
   "execution_count": 4,
   "metadata": {},
   "outputs": [
    {
     "data": {
      "text/html": [
       "<div>\n",
       "<style scoped>\n",
       "    .dataframe tbody tr th:only-of-type {\n",
       "        vertical-align: middle;\n",
       "    }\n",
       "\n",
       "    .dataframe tbody tr th {\n",
       "        vertical-align: top;\n",
       "    }\n",
       "\n",
       "    .dataframe thead th {\n",
       "        text-align: right;\n",
       "    }\n",
       "</style>\n",
       "<table border=\"1\" class=\"dataframe\">\n",
       "  <thead>\n",
       "    <tr style=\"text-align: right;\">\n",
       "      <th></th>\n",
       "      <th>userPrincipalName</th>\n",
       "      <th>displayName</th>\n",
       "      <th>id</th>\n",
       "      <th>jobTitle</th>\n",
       "      <th>QR code</th>\n",
       "    </tr>\n",
       "  </thead>\n",
       "  <tbody>\n",
       "    <tr>\n",
       "      <th>0</th>\n",
       "      <td>a11@europa2000.hu</td>\n",
       "      <td>A11</td>\n",
       "      <td>8f86d57c-213f-4d1f-a9ee-3984d6c326fd</td>\n",
       "      <td>NaN</td>\n",
       "      <td>https://api.qrserver.com/v1/create-qr-code/?si...</td>\n",
       "    </tr>\n",
       "    <tr>\n",
       "      <th>1</th>\n",
       "      <td>a17@europa2000.hu</td>\n",
       "      <td>A17 mozi</td>\n",
       "      <td>e81c16dd-59cd-41e3-91d3-6afd66f1a8a3</td>\n",
       "      <td>Mozigép elérése</td>\n",
       "      <td>https://api.qrserver.com/v1/create-qr-code/?si...</td>\n",
       "    </tr>\n",
       "    <tr>\n",
       "      <th>2</th>\n",
       "      <td>a2@europa2000.hu</td>\n",
       "      <td>A2 terem</td>\n",
       "      <td>0000bfe1-7cd6-450c-a55f-393d6d189f2c</td>\n",
       "      <td>A2 médiaterem</td>\n",
       "      <td>https://api.qrserver.com/v1/create-qr-code/?si...</td>\n",
       "    </tr>\n",
       "    <tr>\n",
       "      <th>3</th>\n",
       "      <td>a31@europa2000.sulid.hu</td>\n",
       "      <td>A31</td>\n",
       "      <td>b21e6af5-fb99-482c-a406-da2b891f8bc1</td>\n",
       "      <td>NaN</td>\n",
       "      <td>https://api.qrserver.com/v1/create-qr-code/?si...</td>\n",
       "    </tr>\n",
       "    <tr>\n",
       "      <th>4</th>\n",
       "      <td>abdullah.shehid@europa2000.hu</td>\n",
       "      <td>Abdullah Shehid</td>\n",
       "      <td>db5f7634-6f44-452b-b51b-391df16ffff3</td>\n",
       "      <td>2022G</td>\n",
       "      <td>https://api.qrserver.com/v1/create-qr-code/?si...</td>\n",
       "    </tr>\n",
       "  </tbody>\n",
       "</table>\n",
       "</div>"
      ],
      "text/plain": [
       "               userPrincipalName      displayName  \\\n",
       "0              a11@europa2000.hu              A11   \n",
       "1              a17@europa2000.hu         A17 mozi   \n",
       "2               a2@europa2000.hu         A2 terem   \n",
       "3        a31@europa2000.sulid.hu              A31   \n",
       "4  abdullah.shehid@europa2000.hu  Abdullah Shehid   \n",
       "\n",
       "                                     id         jobTitle  \\\n",
       "0  8f86d57c-213f-4d1f-a9ee-3984d6c326fd              NaN   \n",
       "1  e81c16dd-59cd-41e3-91d3-6afd66f1a8a3  Mozigép elérése   \n",
       "2  0000bfe1-7cd6-450c-a55f-393d6d189f2c    A2 médiaterem   \n",
       "3  b21e6af5-fb99-482c-a406-da2b891f8bc1              NaN   \n",
       "4  db5f7634-6f44-452b-b51b-391df16ffff3            2022G   \n",
       "\n",
       "                                             QR code  \n",
       "0  https://api.qrserver.com/v1/create-qr-code/?si...  \n",
       "1  https://api.qrserver.com/v1/create-qr-code/?si...  \n",
       "2  https://api.qrserver.com/v1/create-qr-code/?si...  \n",
       "3  https://api.qrserver.com/v1/create-qr-code/?si...  \n",
       "4  https://api.qrserver.com/v1/create-qr-code/?si...  "
      ]
     },
     "execution_count": 4,
     "metadata": {},
     "output_type": "execute_result"
    }
   ],
   "source": [
    "import pandas as pd \n",
    "\n",
    "EXPORT_DIR = f'export'\n",
    "EXPORT_FILENAME = f'EU2K-QR-'\n",
    "EXPORT_FILE_EXT = '.jpg'\n",
    "IMPORT_DIR = f'import'\n",
    "DATASOURCE_FILE = f'exportUser_2021-8-25.xlsx'\n",
    "\n",
    "user_ds = pd.read_excel(IMPORT_DIR + '/' + DATASOURCE_FILE)\n",
    "user_ds.head()"
   ]
  }
 ],
 "metadata": {
  "interpreter": {
   "hash": "67a9bfa4bb6f0b225de00049551187ae7db47669b69a88d6cc17d16ab80166ac"
  },
  "kernelspec": {
   "display_name": "Python 3.9.9 64-bit (windows store)",
   "language": "python",
   "name": "python3"
  },
  "language_info": {
   "codemirror_mode": {
    "name": "ipython",
    "version": 3
   },
   "file_extension": ".py",
   "mimetype": "text/x-python",
   "name": "python",
   "nbconvert_exporter": "python",
   "pygments_lexer": "ipython3",
   "version": "3.9.9"
  },
  "orig_nbformat": 4
 },
 "nbformat": 4,
 "nbformat_minor": 2
}

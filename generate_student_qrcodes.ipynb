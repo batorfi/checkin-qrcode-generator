{
 "cells": [
  {
   "cell_type": "markdown",
   "metadata": {},
   "source": [
    "## QR képletöltő az iskolai check-in alkalmazáshoz\n",
    "\n"
   ]
  },
  {
   "cell_type": "code",
   "execution_count": null,
   "metadata": {},
   "outputs": [],
   "source": [
    "import pandas as pd \n",
    "import requests \n",
    "import shutil\n",
    "\n",
    "EXPORT_DIR = r'export'\n",
    "EXPORT_FILE_EXT = r'.jpg'\n",
    "IMPORT_DIR = r'import'\n",
    "DATASOURCE_FILE = r'exportUser_2021-8-25.xlsx'\n",
    "\n",
    "user_ds = pd.read_excel(IMPORT_DIR + '/' + DATASOURCE_FILE)\n",
    "\n",
    "for r in user_ds.iterrows():\n",
    "    user_name = str.split(r[1]['userPrincipalName'],'@')[0]\n",
    "    qrcode_url = r[1]['QR code']\n",
    "    \n",
    "    r = requests.get(qrcode_url, stream = True)\n",
    "    \n",
    "    if r.status_code == 200:\n",
    "        r.raw.decode_content = True\n",
    "    \n",
    "        file_name = EXPORT_DIR + '/' + user_name + EXPORT_FILE_EXT\n",
    "    \n",
    "        with open(file_name, 'wb') as f:\n",
    "            shutil.copyfileobj(r.raw,f)\n",
    "    \n",
    "        print('File successfully saved: ' + file_name)\n",
    "\n",
    "    else:\n",
    "        print(r'Unable to download file: ' + qrcode_url)\n"
   ]
  }
 ],
 "metadata": {
  "interpreter": {
   "hash": "67a9bfa4bb6f0b225de00049551187ae7db47669b69a88d6cc17d16ab80166ac"
  },
  "kernelspec": {
   "display_name": "Python 3.9.9 64-bit (windows store)",
   "language": "python",
   "name": "python3"
  },
  "language_info": {
   "codemirror_mode": {
    "name": "ipython",
    "version": 3
   },
   "file_extension": ".py",
   "mimetype": "text/x-python",
   "name": "python",
   "nbconvert_exporter": "python",
   "pygments_lexer": "ipython3",
   "version": "3.9.9"
  },
  "orig_nbformat": 4
 },
 "nbformat": 4,
 "nbformat_minor": 2
}
